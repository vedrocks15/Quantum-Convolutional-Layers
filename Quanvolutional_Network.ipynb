{
  "nbformat": 4,
  "nbformat_minor": 0,
  "metadata": {
    "colab": {
      "name": "Quanvolutional_Network.ipynb",
      "provenance": [],
      "collapsed_sections": [],
      "authorship_tag": "ABX9TyOv8PpAN9r2DiUx2QwZrWiS",
      "include_colab_link": true
    },
    "kernelspec": {
      "name": "python3",
      "display_name": "Python 3"
    },
    "accelerator": "GPU"
  },
  "cells": [
    {
      "cell_type": "markdown",
      "metadata": {
        "id": "view-in-github",
        "colab_type": "text"
      },
      "source": [
        "<a href=\"https://colab.research.google.com/github/vedrocks15/Quantum-Convolutional-Layers/blob/master/Quanvolutional_Network.ipynb\" target=\"_parent\"><img src=\"https://colab.research.google.com/assets/colab-badge.svg\" alt=\"Open In Colab\"/></a>"
      ]
    },
    {
      "cell_type": "markdown",
      "metadata": {
        "id": "9bdC7tt0_02M",
        "colab_type": "text"
      },
      "source": [
        "Try to see the variations in the performace gains offered by a random quantum circuit to extract features"
      ]
    },
    {
      "cell_type": "code",
      "metadata": {
        "id": "AOPCyM49_h79",
        "colab_type": "code",
        "colab": {
          "base_uri": "https://localhost:8080/",
          "height": 187
        },
        "outputId": "39929561-08e7-4e04-af18-5dca2609c4cd"
      },
      "source": [
        "! pip install pennylane"
      ],
      "execution_count": null,
      "outputs": [
        {
          "output_type": "stream",
          "text": [
            "Requirement already satisfied: pennylane in /usr/local/lib/python3.6/dist-packages (0.10.0)\n",
            "Requirement already satisfied: autograd in /usr/local/lib/python3.6/dist-packages (from pennylane) (1.3)\n",
            "Requirement already satisfied: networkx in /usr/local/lib/python3.6/dist-packages (from pennylane) (2.4)\n",
            "Requirement already satisfied: numpy in /usr/local/lib/python3.6/dist-packages (from pennylane) (1.18.5)\n",
            "Requirement already satisfied: scipy in /usr/local/lib/python3.6/dist-packages (from pennylane) (1.4.1)\n",
            "Requirement already satisfied: appdirs in /usr/local/lib/python3.6/dist-packages (from pennylane) (1.4.4)\n",
            "Requirement already satisfied: semantic-version==2.6 in /usr/local/lib/python3.6/dist-packages (from pennylane) (2.6.0)\n",
            "Requirement already satisfied: toml in /usr/local/lib/python3.6/dist-packages (from pennylane) (0.10.1)\n",
            "Requirement already satisfied: future>=0.15.2 in /usr/local/lib/python3.6/dist-packages (from autograd->pennylane) (0.16.0)\n",
            "Requirement already satisfied: decorator>=4.3.0 in /usr/local/lib/python3.6/dist-packages (from networkx->pennylane) (4.4.2)\n"
          ],
          "name": "stdout"
        }
      ]
    },
    {
      "cell_type": "code",
      "metadata": {
        "id": "WEDYReq3_xAJ",
        "colab_type": "code",
        "colab": {}
      },
      "source": [
        "# qml used to register qubit as devices\n",
        "import pennylane as qml\n",
        "from pennylane import numpy as np\n",
        "from pennylane.templates import RandomLayers # helps in the generation of a random circuit\n",
        "\n",
        "import tensorflow as tf\n",
        "from tensorflow import keras\n",
        "import matplotlib.pyplot as plt\n",
        "import math"
      ],
      "execution_count": null,
      "outputs": []
    },
    {
      "cell_type": "markdown",
      "metadata": {
        "id": "XJeCk4taAO2c",
        "colab_type": "text"
      },
      "source": [
        "HyperParameters"
      ]
    },
    {
      "cell_type": "code",
      "metadata": {
        "id": "b6yDGCWTABE8",
        "colab_type": "code",
        "colab": {}
      },
      "source": [
        "n_epochs = 30    # Number of optimization epochs\n",
        "lr       = 0.05  # Learning rates\n",
        "n_train  = 50    # no of images for training\n",
        "n_test   = 10    # no of images for testing"
      ],
      "execution_count": null,
      "outputs": []
    },
    {
      "cell_type": "markdown",
      "metadata": {
        "id": "r_2iSK4yAdAV",
        "colab_type": "text"
      },
      "source": [
        "Loading & pre-processing MNIST Data"
      ]
    },
    {
      "cell_type": "code",
      "metadata": {
        "id": "f9cv2Tc_Ajgy",
        "colab_type": "code",
        "colab": {}
      },
      "source": [
        "mnist_dataset = keras.datasets.mnist\n",
        "(train_images, train_labels), (test_images, test_labels) = mnist_dataset.load_data()\n",
        "\n",
        "# Normalize pixel values within 0 and 1\n",
        "train_images = train_images / 255\n",
        "test_images = test_images / 255\n",
        "\n",
        "# Select appropriate number of images\n",
        "train_images = train_images[:n_train]\n",
        "train_labels = train_labels[:n_train]\n",
        "test_images = test_images[:n_test]\n",
        "test_labels = test_labels[:n_test]\n",
        "\n",
        "# Add extra dimension for convolution channels\n",
        "train_images = train_images[..., tf.newaxis]\n",
        "test_images = test_images[..., tf.newaxis]\n"
      ],
      "execution_count": null,
      "outputs": []
    },
    {
      "cell_type": "code",
      "metadata": {
        "id": "kY_s7FCvFaZ2",
        "colab_type": "code",
        "colab": {
          "base_uri": "https://localhost:8080/",
          "height": 51
        },
        "outputId": "25842a65-05d2-45c3-f4bf-10dc39354d68"
      },
      "source": [
        "print(len(train_images))\n",
        "print(len(test_images))"
      ],
      "execution_count": null,
      "outputs": [
        {
          "output_type": "stream",
          "text": [
            "50\n",
            "10\n"
          ],
          "name": "stdout"
        }
      ]
    },
    {
      "cell_type": "markdown",
      "metadata": {
        "id": "lQZoxwqguVFF",
        "colab_type": "text"
      },
      "source": [
        "# Building of a custom Quantum Convolutional Layer"
      ]
    },
    {
      "cell_type": "markdown",
      "metadata": {
        "id": "JeinFeO9E1PZ",
        "colab_type": "text"
      },
      "source": [
        "The experiment does not modify the paramters of the quantum circuit"
      ]
    },
    {
      "cell_type": "code",
      "metadata": {
        "id": "cjaeskAauUq8",
        "colab_type": "code",
        "colab": {}
      },
      "source": [
        "class Quanvolutional_Layer(keras.layers.Layer):\n",
        "\n",
        "  def __init__(self,size_filter,layers_filter,stride_filter,padding):\n",
        "    super(Quanvolutional_Layer,self).__init__()\n",
        "    self.size_filter   = size_filter\n",
        "    self.layers_filter = layers_filter\n",
        "    self.stride_filter = stride_filter\n",
        "    self.padding       = padding\n",
        "    # Based on the quanvolutional filter size we set up appropriate number of wires since each pixel gets assigned a qubit (the encoding we went with)\n",
        "    self.dev           = qml.device(\"default.qubit\", wires=(self.size_filter*self.size_filter))\n",
        "    # Random parameters required for each quantum convolutional filter based on the number of wires i.e. filter size\n",
        "    self.rand_params   = np.random.uniform(high=2 * np.pi, size=(layers_filter, (size_filter*size_filter)))\n",
        "    print(\"Created Basic Properties\")\n",
        "\n",
        "  # The qfilter generted will have the following gate properties :\n",
        "  # 1) Encoding  : Ry rotation gate where the angles are scaled by PI\n",
        "  # 2) Ciruit    : Of n_layers random in nature\n",
        "  # 3) Decoding  : 4 expectation value measurements\n",
        "  # decorator for quantum node\n",
        "\n",
        "  def creator(self,phi):\n",
        "    print(phi)\n",
        "\n",
        "    @qml.qnode(self.dev,interface=\"tf\")\n",
        "    def circuit(self,phi):\n",
        "      print(\"Reached inside\")\n",
        "      # Encoding on each of the filter value along each wire\n",
        "      for j in range(self.size_filter*self.size_filter):\n",
        "        qml.RY(np.pi * phi[j].numpy(), wires=j)\n",
        "      # Random quantum circuit generation based on the random paramters we chose\n",
        "      RandomLayers(self.rand_params, wires=list(range(self.size_filter*self.size_filter)))\n",
        "      #Measurement producing 4 classical output values, each of this value is plugged along a channel\n",
        "      return [qml.expval(qml.PauliZ(j)) for j in range(self.size_filter*self.size_filter)]\n",
        "    \n",
        "    return circuit(self,phi)\n",
        "\n",
        "  def call(self,image):\n",
        "    # 2x2 filter with stride 1 and passes the data through the quantum circuit\n",
        "    # the output of the qunatum ciruit is 4 that is mapped into 4 different channels indicating the same pixel\n",
        "    calc = math.floor((image.shape[1]+2*self.padding-self.size_filter)/self.stride_filter) + 1\n",
        "    out = np.zeros((calc,calc,(self.size_filter*self.size_filter)))\n",
        "    print(image.shape)\n",
        "    print(out.shape)\n",
        "    \n",
        "    # steps of stride\n",
        "    index = 0 \n",
        "    for i in image:\n",
        "      for j in range(0, i.shape[0], self.stride_filter):\n",
        "        for k in range(0, i.shape[1], self.stride_filter):\n",
        "          print(\"Looper\")\n",
        "          # The cicuit remains the same because the uniform random sampling is done only once\n",
        "          q_results = self.creator([i[j, k, 0], i[j, k + 1, 0], i[j + 1, k, 0], i[j + 1, k + 1, 0]])\n",
        "          print(q_results)\n",
        "          # appropriate expectation value is assigned to right channel\n",
        "          for c in range((self.size_filter*self.size_filter)):\n",
        "            out[j // 2, k // 2, c] = q_results[c]\n",
        "      index+=1\n",
        "    return out\n"
      ],
      "execution_count": null,
      "outputs": []
    },
    {
      "cell_type": "code",
      "metadata": {
        "id": "cOXxs62O7-pJ",
        "colab_type": "code",
        "colab": {}
      },
      "source": [
        "class Quanvolutional_Layer():\n",
        "\n",
        "  def __init__(self,size_filter,layers_filter,stride_filter,padding):\n",
        "    self.size_filter   = size_filter         # Determines the number of qubits to be required for the random cicuit (2-4)[time increases NP hard]\n",
        "    self.layers_filter = layers_filter       # Number of random circuits since each filter is a realization of a circuit\n",
        "    self.stride_filter = stride_filter       # Stride same meaning as classical counterpart\n",
        "    self.padding       = padding             # Experimental feature ***Not Implemented***\n",
        "\n",
        "    # Circuit design i.e. number of qubits required for encoding\n",
        "    self.dev           = qml.device(\"default.qubit\", wires=self.size_filter*self.size_filter)\n",
        "\n",
        "    # Along each circuit we require (filter_size)^2 parameters randomly initialized\n",
        "    self.rand_params   = np.random.uniform(high=2 * np.pi, size=(self.layers_filter, (self.size_filter*self.size_filter)))\n",
        "    print(\"Created Basic Properties\")\n",
        "\n",
        "\n",
        "  # The qfilter generted will have the following gate properties :\n",
        "  # 1) Encoding  : Ry rotation gate where the angles are scaled by PI\n",
        "  # 2) Ciruit    : Of n_layers random in nature\n",
        "  # 3) Decoding  : 4 expectation value measurements\n",
        "  # decorator for quantum node\n",
        "  def creator(self,phi):\n",
        "    # Due the decorator access we specified a function inside another function\n",
        "\n",
        "    @qml.qnode(self.dev)\n",
        "    def circuit(phi):\n",
        "      # List containg all qubit outputs\n",
        "      op_list = []\n",
        "\n",
        "      # Encoding on each of the filter value along each wire\n",
        "      for j in range(self.size_filter*self.size_filter):\n",
        "        qml.RY(np.pi * phi[j], wires=j) # BloC sphere mapping\n",
        "\n",
        "      # Random quantum circuit generation based on the random paramters we chose\n",
        "      # The first dimension of rand_params (adjusts the number of layers we care about they are weights)\n",
        "      # Iterating one filter at a time\n",
        "      for k in self.rand_params:\n",
        "        tmp = np.expand_dims(k,axis=0) # convert into 1 layer, number of qubits\n",
        "        RandomLayers(tmp, wires=list(range(self.size_filter*self.size_filter)))\n",
        "        for j in range(self.size_filter*self.size_filter):\n",
        "          op_list.append(qml.expval(qml.PauliZ(j)))\n",
        "      return op_list\n",
        "\n",
        "    # op_list of shape : number of filters, number of qubits\n",
        "    op_list = circuit(phi)\n",
        "    op_list = np.array(op_list)\n",
        "    return list(np.reshape(op_list, (self.layers_filter, (self.size_filter*self.size_filter))))\n",
        "\n",
        "  def call(self,image):\n",
        "\n",
        "    # Sanity check wether the paramters specified is alright for the image dimensions\n",
        "    calc = math.floor((image.shape[1]+2*self.padding-self.size_filter)/self.stride_filter) + 1\n",
        "    if calc <1:\n",
        "      return -1\n",
        "    # Stide reductions along the height and width dim & filter size = number of filters * number of qubits\n",
        "    out = np.zeros((calc,calc,self.layers_filter*(self.size_filter*self.size_filter)))\n",
        "    print(image.shape)\n",
        "    print(out.shape)\n",
        "    \n",
        "\n",
        "    # Output collection array\n",
        "    collection = []\n",
        "    index = 0\n",
        "    for i in image:\n",
        "      out = np.zeros((calc,calc,self.layers_filter*(self.size_filter*self.size_filter)))\n",
        "      # Progress checker\n",
        "      print(\"Image processed :\",index+1)\n",
        "      # Stride based steps\n",
        "      for j in range(0, i.shape[0], self.stride_filter):\n",
        "        for k in range(0, i.shape[1], self.stride_filter):\n",
        "          phi = []\n",
        "          # Padding not yet implemented\n",
        "          if(j+self.size_filter > i.shape[0]) | (k+self.size_filter > i.shape[1]):\n",
        "            continue\n",
        "          for l in range(j,j+self.size_filter): \n",
        "            for m in range(k,k+self.size_filter):\n",
        "              phi.append(i[l][m][0])\n",
        "              \n",
        "          q_results = self.creator(phi)\n",
        "          \n",
        "          ctr = 0\n",
        "          for x in q_results:\n",
        "            for y in range(len(x)):\n",
        "              out[j//self.stride_filter, k//self.stride_filter,ctr] = x[y]\n",
        "              ctr+=1\n",
        "      collection.append(out) \n",
        "      index+=1\n",
        "    return collection\n"
      ],
      "execution_count": null,
      "outputs": []
    },
    {
      "cell_type": "code",
      "metadata": {
        "id": "FHmQUiOG8JtQ",
        "colab_type": "code",
        "colab": {
          "base_uri": "https://localhost:8080/",
          "height": 1000
        },
        "outputId": "a55ce2e5-32b2-4085-d1b6-3c4f24f1b878"
      },
      "source": [
        "Quan2D = Quanvolutional_Layer(2,1,2,0)\n",
        "op_train = Quan2D.call(train_images)\n",
        "op_train = np.asarray(op_train, dtype=np.float32)\n",
        "\n",
        "op_test  = Quan2D.call(test_images)\n",
        "op_test  = np.asarray(op_test, dtype=np.float32)\n",
        "print(op_train.shape)\n",
        "print(op_test.shape)\n",
        "print(op_train[0])"
      ],
      "execution_count": null,
      "outputs": [
        {
          "output_type": "stream",
          "text": [
            "Created Basic Properties\n",
            "(50, 28, 28, 1)\n",
            "(14, 14, 4)\n",
            "Image processed : 1\n",
            "Image processed : 2\n",
            "Image processed : 3\n",
            "Image processed : 4\n",
            "Image processed : 5\n",
            "Image processed : 6\n",
            "Image processed : 7\n",
            "Image processed : 8\n",
            "Image processed : 9\n",
            "Image processed : 10\n",
            "Image processed : 11\n",
            "Image processed : 12\n",
            "Image processed : 13\n",
            "Image processed : 14\n",
            "Image processed : 15\n",
            "Image processed : 16\n",
            "Image processed : 17\n",
            "Image processed : 18\n",
            "Image processed : 19\n",
            "Image processed : 20\n",
            "Image processed : 21\n",
            "Image processed : 22\n",
            "Image processed : 23\n",
            "Image processed : 24\n",
            "Image processed : 25\n",
            "Image processed : 26\n",
            "Image processed : 27\n",
            "Image processed : 28\n",
            "Image processed : 29\n",
            "Image processed : 30\n",
            "Image processed : 31\n",
            "Image processed : 32\n",
            "Image processed : 33\n",
            "Image processed : 34\n",
            "Image processed : 35\n",
            "Image processed : 36\n",
            "Image processed : 37\n",
            "Image processed : 38\n",
            "Image processed : 39\n",
            "Image processed : 40\n",
            "Image processed : 41\n",
            "Image processed : 42\n",
            "Image processed : 43\n",
            "Image processed : 44\n",
            "Image processed : 45\n",
            "Image processed : 46\n",
            "Image processed : 47\n",
            "Image processed : 48\n",
            "Image processed : 49\n",
            "Image processed : 50\n",
            "(10, 28, 28, 1)\n",
            "(14, 14, 4)\n",
            "Image processed : 1\n",
            "Image processed : 2\n",
            "Image processed : 3\n",
            "Image processed : 4\n",
            "Image processed : 5\n",
            "Image processed : 6\n",
            "Image processed : 7\n",
            "Image processed : 8\n",
            "Image processed : 9\n",
            "Image processed : 10\n",
            "(50, 14, 14, 4)\n",
            "(10, 14, 14, 4)\n",
            "[[[ 0.77182055  1.          1.          1.        ]\n",
            "  [ 0.77182055  1.          1.          1.        ]\n",
            "  [ 0.77182055  1.          1.          1.        ]\n",
            "  [ 0.77182055  1.          1.          1.        ]\n",
            "  [ 0.77182055  1.          1.          1.        ]\n",
            "  [ 0.77182055  1.          1.          1.        ]\n",
            "  [ 0.77182055  1.          1.          1.        ]\n",
            "  [ 0.77182055  1.          1.          1.        ]\n",
            "  [ 0.77182055  1.          1.          1.        ]\n",
            "  [ 0.77182055  1.          1.          1.        ]\n",
            "  [ 0.77182055  1.          1.          1.        ]\n",
            "  [ 0.77182055  1.          1.          1.        ]\n",
            "  [ 0.77182055  1.          1.          1.        ]\n",
            "  [ 0.77182055  1.          1.          1.        ]]\n",
            "\n",
            " [[ 0.77182055  1.          1.          1.        ]\n",
            "  [ 0.77182055  1.          1.          1.        ]\n",
            "  [ 0.77182055  1.          1.          1.        ]\n",
            "  [ 0.77182055  1.          1.          1.        ]\n",
            "  [ 0.77182055  1.          1.          1.        ]\n",
            "  [ 0.77182055  1.          1.          1.        ]\n",
            "  [ 0.77182055  1.          1.          1.        ]\n",
            "  [ 0.77182055  1.          1.          1.        ]\n",
            "  [ 0.77182055  1.          1.          1.        ]\n",
            "  [ 0.77182055  1.          1.          1.        ]\n",
            "  [ 0.77182055  1.          1.          1.        ]\n",
            "  [ 0.77182055  1.          1.          1.        ]\n",
            "  [ 0.77182055  1.          1.          1.        ]\n",
            "  [ 0.77182055  1.          1.          1.        ]]\n",
            "\n",
            " [[ 0.77182055  1.          1.          1.        ]\n",
            "  [ 0.77182055  1.          1.          1.        ]\n",
            "  [ 0.77182055  1.          1.          1.        ]\n",
            "  [ 0.77182055  1.          1.          1.        ]\n",
            "  [ 0.77182055  1.          1.          1.        ]\n",
            "  [ 0.77182055  1.          1.          1.        ]\n",
            "  [ 0.7529202   0.99931705  0.99931705  0.97551197]\n",
            "  [ 0.7529202   0.97551197  0.97551197  0.97551197]\n",
            "  [-0.08067722  0.01847891  0.01847891 -0.10452846]\n",
            "  [ 0.7325619  -0.55236495 -0.55236495  0.94913495]\n",
            "  [-0.77182055 -0.45673263 -0.45673263 -1.        ]\n",
            "  [ 0.00475437 -0.99514693 -0.99514693  0.00615995]\n",
            "  [ 0.77182055  1.          1.          1.        ]\n",
            "  [ 0.77182055  1.          1.          1.        ]]\n",
            "\n",
            " [[ 0.77182055  1.          1.          1.        ]\n",
            "  [ 0.77182055  1.          1.          1.        ]\n",
            "  [ 0.77182055  1.          1.          1.        ]\n",
            "  [ 0.6354036   1.          1.          0.823253  ]\n",
            "  [-0.76476336 -0.8835091  -0.9781476  -0.99969643]\n",
            "  [-0.4243065   0.32061288 -0.99969643 -0.99969643]\n",
            "  [ 0.27723944  0.999393   -0.99969643 -0.99969643]\n",
            "  [ 0.7682638   0.999393   -0.99969643 -0.99969643]\n",
            "  [ 0.7675613   0.999393   -0.99969643 -0.998786  ]\n",
            "  [-0.42791656 -0.21491387  0.41235632  0.5316595 ]\n",
            "  [-0.59821117 -0.5248552   0.5316595   0.771298  ]\n",
            "  [-0.654828    0.62510943  0.8867737   1.        ]\n",
            "  [ 0.77182055  1.          1.          1.        ]\n",
            "  [ 0.77182055  1.          1.          1.        ]]\n",
            "\n",
            " [[ 0.77182055  1.          1.          1.        ]\n",
            "  [ 0.77182055  1.          1.          1.        ]\n",
            "  [ 0.77182055  1.          1.          1.        ]\n",
            "  [ 0.77182055  0.97551197  1.          1.        ]\n",
            "  [ 0.1859932  -0.5521973   0.55236495 -0.34394893]\n",
            "  [ 0.7682638  -0.24980713  0.249883   -0.99969643]\n",
            "  [ 0.6266781   0.999393   -0.99969643 -0.8161969 ]\n",
            "  [-0.6701716  -0.6164088   0.99083126  1.        ]\n",
            "  [ 0.23399529 -0.8501251   0.862929   -0.32071024]\n",
            "  [ 0.77182055  1.          1.          1.        ]\n",
            "  [ 0.77182055  1.          1.          1.        ]\n",
            "  [ 0.77182055  1.          1.          1.        ]\n",
            "  [ 0.77182055  1.          1.          1.        ]\n",
            "  [ 0.77182055  1.          1.          1.        ]]\n",
            "\n",
            " [[ 0.77182055  1.          1.          1.        ]\n",
            "  [ 0.77182055  1.          1.          1.        ]\n",
            "  [ 0.77182055  1.          1.          1.        ]\n",
            "  [ 0.77182055  1.          1.          1.        ]\n",
            "  [ 0.77182055  0.98516226  1.          1.        ]\n",
            "  [-0.11052177 -0.32071024  1.         -0.14120615]\n",
            "  [ 0.53403914 -0.44560304 -0.99969643 -0.696134  ]\n",
            "  [ 0.77182055  0.99969643  0.99969643  1.        ]\n",
            "  [ 0.77182055  1.          1.          1.        ]\n",
            "  [ 0.77182055  1.          1.          1.        ]\n",
            "  [ 0.77182055  1.          1.          1.        ]\n",
            "  [ 0.77182055  1.          1.          1.        ]\n",
            "  [ 0.77182055  1.          1.          1.        ]\n",
            "  [ 0.77182055  1.          1.          1.        ]]\n",
            "\n",
            " [[ 0.77182055  1.          1.          1.        ]\n",
            "  [ 0.77182055  1.          1.          1.        ]\n",
            "  [ 0.77182055  1.          1.          1.        ]\n",
            "  [ 0.77182055  1.          1.          1.        ]\n",
            "  [ 0.77182055  1.          1.          1.        ]\n",
            "  [ 0.77182055  0.99083126  1.          1.        ]\n",
            "  [ 0.4393302  -0.90818954  0.90846527 -0.98516226]\n",
            "  [-0.29092425 -0.9324722  -0.9324722  -0.3897859 ]\n",
            "  [ 0.771762    0.2379352   0.2379352   0.9999241 ]\n",
            "  [ 0.77182055  1.          1.          1.        ]\n",
            "  [ 0.77182055  1.          1.          1.        ]\n",
            "  [ 0.77182055  1.          1.          1.        ]\n",
            "  [ 0.77182055  1.          1.          1.        ]\n",
            "  [ 0.77182055  1.          1.          1.        ]]\n",
            "\n",
            " [[ 0.77182055  1.          1.          1.        ]\n",
            "  [ 0.77182055  1.          1.          1.        ]\n",
            "  [ 0.77182055  1.          1.          1.        ]\n",
            "  [ 0.77182055  1.          1.          1.        ]\n",
            "  [ 0.77182055  1.          1.          1.        ]\n",
            "  [ 0.77182055  1.          1.          1.        ]\n",
            "  [ 0.77182055  0.54205334  1.          1.        ]\n",
            "  [ 0.47763833 -0.8499591   0.85021716 -0.6599245 ]\n",
            "  [ 0.7682638  -0.10449673 -0.99969643 -0.99969643]\n",
            "  [ 0.65718365 -0.27366298 -0.27366298  0.9451838 ]\n",
            "  [ 0.77182055  1.          1.          1.        ]\n",
            "  [ 0.77182055  1.          1.          1.        ]\n",
            "  [ 0.77182055  1.          1.          1.        ]\n",
            "  [ 0.77182055  1.          1.          1.        ]]\n",
            "\n",
            " [[ 0.77182055  1.          1.          1.        ]\n",
            "  [ 0.77182055  1.          1.          1.        ]\n",
            "  [ 0.77182055  1.          1.          1.        ]\n",
            "  [ 0.77182055  1.          1.          1.        ]\n",
            "  [ 0.77182055  1.          1.          1.        ]\n",
            "  [ 0.77182055  1.          1.          1.        ]\n",
            "  [ 0.77182055  1.          1.          1.        ]\n",
            "  [ 0.77182055  0.98063475  1.          1.        ]\n",
            "  [-0.43158993 -0.99931705  1.         -0.99726915]\n",
            "  [ 0.766391    0.6689275  -0.99969643 -0.99726915]\n",
            "  [ 0.77182055  0.70492554  0.70492554  1.        ]\n",
            "  [ 0.77182055  1.          1.          1.        ]\n",
            "  [ 0.77182055  1.          1.          1.        ]\n",
            "  [ 0.77182055  1.          1.          1.        ]]\n",
            "\n",
            " [[ 0.77182055  1.          1.          1.        ]\n",
            "  [ 0.77182055  1.          1.          1.        ]\n",
            "  [ 0.77182055  1.          1.          1.        ]\n",
            "  [ 0.77182055  1.          1.          1.        ]\n",
            "  [ 0.77182055  1.          1.          1.        ]\n",
            "  [ 0.77182055  1.          1.          1.        ]\n",
            "  [-0.19286484  0.8867737   0.8867737  -0.249883  ]\n",
            "  [-0.7182566   0.02922867 -0.94913495 -0.99969643]\n",
            "  [ 0.39025003  0.999393   -0.99969643 -0.99969643]\n",
            "  [ 0.4769255   0.82860947 -0.9981033  -0.6221128 ]\n",
            "  [ 0.76849806  1.          1.          1.        ]\n",
            "  [ 0.77182055  1.          1.          1.        ]\n",
            "  [ 0.77182055  1.          1.          1.        ]\n",
            "  [ 0.77182055  1.          1.          1.        ]]\n",
            "\n",
            " [[ 0.77182055  1.          1.          1.        ]\n",
            "  [ 0.77182055  1.          1.          1.        ]\n",
            "  [ 0.77182055  1.          1.          1.        ]\n",
            "  [ 0.77182055  1.          1.          1.        ]\n",
            "  [ 0.5304234   0.96012163  0.96012163  0.68723667]\n",
            "  [-0.7746277  -0.14388104 -0.86908895 -0.99969643]\n",
            "  [ 0.6538959   0.999393   -0.99969643 -0.99969643]\n",
            "  [ 0.5859394   0.999393   -0.99969643 -0.7633983 ]\n",
            "  [-0.7744403  -0.42645773  0.54205334  0.99969643]\n",
            "  [ 0.33929673  1.          1.          1.        ]\n",
            "  [ 0.77182055  1.          1.          1.        ]\n",
            "  [ 0.77182055  1.          1.          1.        ]\n",
            "  [ 0.77182055  1.          1.          1.        ]\n",
            "  [ 0.77182055  1.          1.          1.        ]]\n",
            "\n",
            " [[ 0.77182055  1.          1.          1.        ]\n",
            "  [ 0.77182055  1.          1.          1.        ]\n",
            "  [-0.4022612   0.77908057  0.77908057 -0.52118486]\n",
            "  [-0.7802613   0.47838578 -0.93685186 -0.99969643]\n",
            "  [ 0.64314413  0.999393   -0.99969643 -0.99969643]\n",
            "  [ 0.7614236   0.999393   -0.99969643 -0.99083126]\n",
            "  [-0.7676      0.05003682 -0.067708    0.99083126]\n",
            "  [ 0.32183707  0.9938591   1.          1.        ]\n",
            "  [ 0.77182055  1.          1.          1.        ]\n",
            "  [ 0.77182055  1.          1.          1.        ]\n",
            "  [ 0.77182055  1.          1.          1.        ]\n",
            "  [ 0.77182055  1.          1.          1.        ]\n",
            "  [ 0.77182055  1.          1.          1.        ]\n",
            "  [ 0.77182055  1.          1.          1.        ]]\n",
            "\n",
            " [[ 0.77182055  1.          1.          1.        ]\n",
            "  [ 0.77182055  1.          1.          1.        ]\n",
            "  [-0.20533757 -0.99969643  1.          1.        ]\n",
            "  [-0.77467453 -0.99969643  1.          1.        ]\n",
            "  [-0.7293674  -0.09226836  1.          1.        ]\n",
            "  [-0.16792215  0.98063475  1.          1.        ]\n",
            "  [ 0.77182055  1.          1.          1.        ]\n",
            "  [ 0.77182055  1.          1.          1.        ]\n",
            "  [ 0.77182055  1.          1.          1.        ]\n",
            "  [ 0.77182055  1.          1.          1.        ]\n",
            "  [ 0.77182055  1.          1.          1.        ]\n",
            "  [ 0.77182055  1.          1.          1.        ]\n",
            "  [ 0.77182055  1.          1.          1.        ]\n",
            "  [ 0.77182055  1.          1.          1.        ]]\n",
            "\n",
            " [[ 0.77182055  1.          1.          1.        ]\n",
            "  [ 0.77182055  1.          1.          1.        ]\n",
            "  [ 0.77182055  1.          1.          1.        ]\n",
            "  [ 0.77182055  1.          1.          1.        ]\n",
            "  [ 0.77182055  1.          1.          1.        ]\n",
            "  [ 0.77182055  1.          1.          1.        ]\n",
            "  [ 0.77182055  1.          1.          1.        ]\n",
            "  [ 0.77182055  1.          1.          1.        ]\n",
            "  [ 0.77182055  1.          1.          1.        ]\n",
            "  [ 0.77182055  1.          1.          1.        ]\n",
            "  [ 0.77182055  1.          1.          1.        ]\n",
            "  [ 0.77182055  1.          1.          1.        ]\n",
            "  [ 0.77182055  1.          1.          1.        ]\n",
            "  [ 0.77182055  1.          1.          1.        ]]]\n"
          ],
          "name": "stdout"
        }
      ]
    },
    {
      "cell_type": "code",
      "metadata": {
        "id": "pvmu-3zz_Ql6",
        "colab_type": "code",
        "colab": {
          "base_uri": "https://localhost:8080/",
          "height": 729
        },
        "outputId": "9d6e0fd8-f88b-4d83-cc0b-c11ea44d1d69"
      },
      "source": [
        "n_samples = 4\n",
        "n_channels = 4\n",
        "fig, axes = plt.subplots(1 + n_channels, n_samples, figsize=(10, 10))\n",
        "for k in range(n_samples):\n",
        "    axes[0, 0].set_ylabel(\"Input\")\n",
        "    if k != 0:\n",
        "        axes[0, k].yaxis.set_visible(False)\n",
        "    axes[0, k].imshow(train_images[k, :, :, 0], cmap=\"gray\")\n",
        "\n",
        "    # Plot all output channels\n",
        "    for c in range(n_channels):\n",
        "        axes[c + 1, 0].set_ylabel(\"Output [ch. {}]\".format(c))\n",
        "        if k != 0:\n",
        "            axes[c, k].yaxis.set_visible(False)\n",
        "        axes[c + 1, k].imshow(op_train[k, :, :, c], cmap=\"gray\")\n",
        "\n",
        "plt.tight_layout()\n",
        "plt.show()"
      ],
      "execution_count": null,
      "outputs": [
        {
          "output_type": "display_data",
          "data": {
            "image/png": "[encoded data removed]",
            "text/plain": [
              "<Figure size 720x720 with 20 Axes>"
            ]
          },
          "metadata": {
            "tags": [],
            "needs_background": "light"
          }
        }
      ]
    },
    {
      "cell_type": "markdown",
      "metadata": {
        "id": "6g3Gux-XIXic",
        "colab_type": "text"
      },
      "source": [
        "# Hybrid Model"
      ]
    },
    {
      "cell_type": "code",
      "metadata": {
        "id": "XaEc3dR7FT5I",
        "colab_type": "code",
        "colab": {}
      },
      "source": [
        "model = keras.models.Sequential([\n",
        "        keras.layers.Flatten(),\n",
        "        keras.layers.Dense(10, activation=\"softmax\")\n",
        "    ])\n",
        "\n",
        "model.compile(\n",
        "        optimizer=keras.optimizers.SGD(learning_rate=lr),\n",
        "        loss=\"sparse_categorical_crossentropy\",\n",
        "        metrics=[\"accuracy\"],\n",
        "    )"
      ],
      "execution_count": null,
      "outputs": []
    },
    {
      "cell_type": "code",
      "metadata": {
        "id": "LY2VtI3_IjvB",
        "colab_type": "code",
        "colab": {
          "base_uri": "https://localhost:8080/",
          "height": 1000
        },
        "outputId": "05e1bb64-1b38-4e3b-9dba-7b244e746832"
      },
      "source": [
        "history = model.fit( op_train,\n",
        "                     train_labels,\n",
        "                     validation_data=(op_test, test_labels),\n",
        "                     batch_size=4,\n",
        "                     epochs=n_epochs,\n",
        "                     verbose=2,)"
      ],
      "execution_count": null,
      "outputs": [
        {
          "output_type": "stream",
          "text": [
            "Epoch 1/30\n",
            "13/13 - 0s - loss: 7.3383 - accuracy: 0.1400 - val_loss: 32.1610 - val_accuracy: 0.0000e+00\n",
            "Epoch 2/30\n",
            "13/13 - 0s - loss: 10.7027 - accuracy: 0.1600 - val_loss: 2.9228 - val_accuracy: 0.5000\n",
            "Epoch 3/30\n",
            "13/13 - 0s - loss: 1.8496 - accuracy: 0.6000 - val_loss: 6.4975 - val_accuracy: 0.2000\n",
            "Epoch 4/30\n",
            "13/13 - 0s - loss: 2.8489 - accuracy: 0.5600 - val_loss: 1.2784 - val_accuracy: 0.6000\n",
            "Epoch 5/30\n",
            "13/13 - 0s - loss: 0.0946 - accuracy: 0.9600 - val_loss: 0.7793 - val_accuracy: 0.6000\n",
            "Epoch 6/30\n",
            "13/13 - 0s - loss: 0.0162 - accuracy: 1.0000 - val_loss: 0.7533 - val_accuracy: 0.7000\n",
            "Epoch 7/30\n",
            "13/13 - 0s - loss: 0.0128 - accuracy: 1.0000 - val_loss: 0.7432 - val_accuracy: 0.7000\n",
            "Epoch 8/30\n",
            "13/13 - 0s - loss: 0.0108 - accuracy: 1.0000 - val_loss: 0.6881 - val_accuracy: 0.7000\n",
            "Epoch 9/30\n",
            "13/13 - 0s - loss: 0.0107 - accuracy: 1.0000 - val_loss: 0.7573 - val_accuracy: 0.7000\n",
            "Epoch 10/30\n",
            "13/13 - 0s - loss: 0.0103 - accuracy: 1.0000 - val_loss: 0.7203 - val_accuracy: 0.8000\n",
            "Epoch 11/30\n",
            "13/13 - 0s - loss: 0.0097 - accuracy: 1.0000 - val_loss: 0.6843 - val_accuracy: 0.6000\n",
            "Epoch 12/30\n",
            "13/13 - 0s - loss: 0.0090 - accuracy: 1.0000 - val_loss: 0.6765 - val_accuracy: 0.7000\n",
            "Epoch 13/30\n",
            "13/13 - 0s - loss: 0.0082 - accuracy: 1.0000 - val_loss: 0.6934 - val_accuracy: 0.7000\n",
            "Epoch 14/30\n",
            "13/13 - 0s - loss: 0.0078 - accuracy: 1.0000 - val_loss: 0.6876 - val_accuracy: 0.7000\n",
            "Epoch 15/30\n",
            "13/13 - 0s - loss: 0.0077 - accuracy: 1.0000 - val_loss: 0.6904 - val_accuracy: 0.7000\n",
            "Epoch 16/30\n",
            "13/13 - 0s - loss: 0.0074 - accuracy: 1.0000 - val_loss: 0.6899 - val_accuracy: 0.7000\n",
            "Epoch 17/30\n",
            "13/13 - 0s - loss: 0.0070 - accuracy: 1.0000 - val_loss: 0.7095 - val_accuracy: 0.7000\n",
            "Epoch 18/30\n",
            "13/13 - 0s - loss: 0.0070 - accuracy: 1.0000 - val_loss: 0.6963 - val_accuracy: 0.7000\n",
            "Epoch 19/30\n",
            "13/13 - 0s - loss: 0.0066 - accuracy: 1.0000 - val_loss: 0.7017 - val_accuracy: 0.7000\n",
            "Epoch 20/30\n",
            "13/13 - 0s - loss: 0.0063 - accuracy: 1.0000 - val_loss: 0.6957 - val_accuracy: 0.7000\n",
            "Epoch 21/30\n",
            "13/13 - 0s - loss: 0.0062 - accuracy: 1.0000 - val_loss: 0.6784 - val_accuracy: 0.7000\n",
            "Epoch 22/30\n",
            "13/13 - 0s - loss: 0.0060 - accuracy: 1.0000 - val_loss: 0.6802 - val_accuracy: 0.7000\n",
            "Epoch 23/30\n",
            "13/13 - 0s - loss: 0.0058 - accuracy: 1.0000 - val_loss: 0.6678 - val_accuracy: 0.6000\n",
            "Epoch 24/30\n",
            "13/13 - 0s - loss: 0.0057 - accuracy: 1.0000 - val_loss: 0.6831 - val_accuracy: 0.7000\n",
            "Epoch 25/30\n",
            "13/13 - 0s - loss: 0.0055 - accuracy: 1.0000 - val_loss: 0.6767 - val_accuracy: 0.7000\n",
            "Epoch 26/30\n",
            "13/13 - 0s - loss: 0.0054 - accuracy: 1.0000 - val_loss: 0.6806 - val_accuracy: 0.7000\n",
            "Epoch 27/30\n",
            "13/13 - 0s - loss: 0.0052 - accuracy: 1.0000 - val_loss: 0.6754 - val_accuracy: 0.7000\n",
            "Epoch 28/30\n",
            "13/13 - 0s - loss: 0.0051 - accuracy: 1.0000 - val_loss: 0.6938 - val_accuracy: 0.7000\n",
            "Epoch 29/30\n",
            "13/13 - 0s - loss: 0.0050 - accuracy: 1.0000 - val_loss: 0.6828 - val_accuracy: 0.7000\n",
            "Epoch 30/30\n",
            "13/13 - 0s - loss: 0.0050 - accuracy: 1.0000 - val_loss: 0.6910 - val_accuracy: 0.7000\n"
          ],
          "name": "stdout"
        }
      ]
    },
    {
      "cell_type": "code",
      "metadata": {
        "id": "bylFl5z9I2gP",
        "colab_type": "code",
        "colab": {
          "base_uri": "https://localhost:8080/",
          "height": 281
        },
        "outputId": "2683fd5b-cca3-4b9e-aad5-3b2f3394b551"
      },
      "source": [
        "import matplotlib.pyplot as plt\n",
        "\n",
        "plt.subplot(1, 2, 1)\n",
        "plt.title('Training and Validation accuracy')\n",
        "plt.plot(history.epoch, history.history['accuracy'], label='Training accuracy')\n",
        "plt.plot(history.epoch, history.history['val_accuracy'], label='Validation accuracy')\n",
        "plt.legend()\n",
        "\n",
        "plt.subplot(1, 2, 2)\n",
        "plt.title('Training and Validation loss')\n",
        "plt.plot(history.epoch, history.history['loss'], label='Training loss')\n",
        "plt.plot(history.epoch, history.history['val_loss'], label='Validation loss')\n",
        "plt.legend()\n",
        "\n",
        "plt.show()"
      ],
      "execution_count": null,
      "outputs": [
        {
          "output_type": "display_data",
          "data": {
            "image/png": "[encoded data removed]",
            "text/plain": [
              "<Figure size 432x288 with 2 Axes>"
            ]
          },
          "metadata": {
            "tags": [],
            "needs_background": "light"
          }
        }
      ]
    },
    {
      "cell_type": "code",
      "metadata": {
        "id": "lH1MYO0WAPU5",
        "colab_type": "code",
        "colab": {}
      },
      "source": [
        ""
      ],
      "execution_count": null,
      "outputs": []
    }
  ]
}